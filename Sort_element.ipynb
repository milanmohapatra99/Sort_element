{
 "cells": [
  {
   "cell_type": "code",
   "execution_count": 2,
   "id": "ea0cc99d",
   "metadata": {},
   "outputs": [
    {
     "name": "stdout",
     "output_type": "stream",
     "text": [
      "[122, 64, 44, 34, 25, 23, 22, 12, 11, 3, 2, 1]\n",
      "[1, 2, 3, 11, 12, 22, 23, 25, 34, 44, 64, 122]\n"
     ]
    }
   ],
   "source": [
    "# Write a Sort Function to sort the elements in a list\n",
    "l=[64,25,12,22,11,1,2,44,3,122,23,34]\n",
    "l.sort(reverse = True)\n",
    "print(l)\n",
    "l.sort(reverse = False)\n",
    "print(l)"
   ]
  },
  {
   "cell_type": "code",
   "execution_count": null,
   "id": "be598fdb",
   "metadata": {},
   "outputs": [],
   "source": []
  }
 ],
 "metadata": {
  "kernelspec": {
   "display_name": "Python 3 (ipykernel)",
   "language": "python",
   "name": "python3"
  },
  "language_info": {
   "codemirror_mode": {
    "name": "ipython",
    "version": 3
   },
   "file_extension": ".py",
   "mimetype": "text/x-python",
   "name": "python",
   "nbconvert_exporter": "python",
   "pygments_lexer": "ipython3",
   "version": "3.9.7"
  }
 },
 "nbformat": 4,
 "nbformat_minor": 5
}
